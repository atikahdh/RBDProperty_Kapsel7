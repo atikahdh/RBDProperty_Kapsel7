{
  "nbformat": 4,
  "nbformat_minor": 0,
  "metadata": {
    "colab": {
      "name": "Data Crawling.ipynb",
      "provenance": [],
      "authorship_tag": "ABX9TyOmq3DTb1T4fCyYFf0vmU5u",
      "include_colab_link": true
    },
    "kernelspec": {
      "name": "python3",
      "display_name": "Python 3"
    },
    "language_info": {
      "name": "python"
    }
  },
  "cells": [
    {
      "cell_type": "markdown",
      "metadata": {
        "id": "view-in-github",
        "colab_type": "text"
      },
      "source": [
        "<a href=\"https://colab.research.google.com/github/atikahdh/RBDProperty_Kapsel7/blob/main/Data_Crawling.ipynb\" target=\"_parent\"><img src=\"https://colab.research.google.com/assets/colab-badge.svg\" alt=\"Open In Colab\"/></a>"
      ]
    },
    {
      "cell_type": "code",
      "metadata": {
        "colab": {
          "base_uri": "https://localhost:8080/"
        },
        "id": "PSPRo9ujJJi-",
        "outputId": "1ae50e76-5f54-40f7-c569-76cfa5cd9c73"
      },
      "source": [
        "!pip install unidecode twython tweepy beautifulsoup4 tika"
      ],
      "execution_count": 1,
      "outputs": [
        {
          "output_type": "stream",
          "name": "stdout",
          "text": [
            "Collecting unidecode\n",
            "  Downloading Unidecode-1.3.2-py3-none-any.whl (235 kB)\n",
            "\u001b[?25l\r\u001b[K     |█▍                              | 10 kB 24.2 MB/s eta 0:00:01\r\u001b[K     |██▉                             | 20 kB 29.7 MB/s eta 0:00:01\r\u001b[K     |████▏                           | 30 kB 30.3 MB/s eta 0:00:01\r\u001b[K     |█████▋                          | 40 kB 26.2 MB/s eta 0:00:01\r\u001b[K     |███████                         | 51 kB 25.1 MB/s eta 0:00:01\r\u001b[K     |████████▍                       | 61 kB 27.3 MB/s eta 0:00:01\r\u001b[K     |█████████▊                      | 71 kB 24.8 MB/s eta 0:00:01\r\u001b[K     |███████████▏                    | 81 kB 24.9 MB/s eta 0:00:01\r\u001b[K     |████████████▌                   | 92 kB 24.8 MB/s eta 0:00:01\r\u001b[K     |██████████████                  | 102 kB 26.4 MB/s eta 0:00:01\r\u001b[K     |███████████████▎                | 112 kB 26.4 MB/s eta 0:00:01\r\u001b[K     |████████████████▊               | 122 kB 26.4 MB/s eta 0:00:01\r\u001b[K     |██████████████████              | 133 kB 26.4 MB/s eta 0:00:01\r\u001b[K     |███████████████████▌            | 143 kB 26.4 MB/s eta 0:00:01\r\u001b[K     |████████████████████▉           | 153 kB 26.4 MB/s eta 0:00:01\r\u001b[K     |██████████████████████▎         | 163 kB 26.4 MB/s eta 0:00:01\r\u001b[K     |███████████████████████▋        | 174 kB 26.4 MB/s eta 0:00:01\r\u001b[K     |█████████████████████████       | 184 kB 26.4 MB/s eta 0:00:01\r\u001b[K     |██████████████████████████▍     | 194 kB 26.4 MB/s eta 0:00:01\r\u001b[K     |███████████████████████████▉    | 204 kB 26.4 MB/s eta 0:00:01\r\u001b[K     |█████████████████████████████▏  | 215 kB 26.4 MB/s eta 0:00:01\r\u001b[K     |██████████████████████████████▋ | 225 kB 26.4 MB/s eta 0:00:01\r\u001b[K     |████████████████████████████████| 235 kB 26.4 MB/s eta 0:00:01\r\u001b[K     |████████████████████████████████| 235 kB 26.4 MB/s \n",
            "\u001b[?25hCollecting twython\n",
            "  Downloading twython-3.9.1-py3-none-any.whl (33 kB)\n",
            "Requirement already satisfied: tweepy in /usr/local/lib/python3.7/dist-packages (3.10.0)\n",
            "Requirement already satisfied: beautifulsoup4 in /usr/local/lib/python3.7/dist-packages (4.6.3)\n",
            "Collecting tika\n",
            "  Downloading tika-1.24.tar.gz (28 kB)\n",
            "Requirement already satisfied: requests-oauthlib>=0.4.0 in /usr/local/lib/python3.7/dist-packages (from twython) (1.3.0)\n",
            "Requirement already satisfied: requests>=2.1.0 in /usr/local/lib/python3.7/dist-packages (from twython) (2.23.0)\n",
            "Requirement already satisfied: certifi>=2017.4.17 in /usr/local/lib/python3.7/dist-packages (from requests>=2.1.0->twython) (2021.5.30)\n",
            "Requirement already satisfied: chardet<4,>=3.0.2 in /usr/local/lib/python3.7/dist-packages (from requests>=2.1.0->twython) (3.0.4)\n",
            "Requirement already satisfied: idna<3,>=2.5 in /usr/local/lib/python3.7/dist-packages (from requests>=2.1.0->twython) (2.10)\n",
            "Requirement already satisfied: urllib3!=1.25.0,!=1.25.1,<1.26,>=1.21.1 in /usr/local/lib/python3.7/dist-packages (from requests>=2.1.0->twython) (1.24.3)\n",
            "Requirement already satisfied: oauthlib>=3.0.0 in /usr/local/lib/python3.7/dist-packages (from requests-oauthlib>=0.4.0->twython) (3.1.1)\n",
            "Requirement already satisfied: six>=1.10.0 in /usr/local/lib/python3.7/dist-packages (from tweepy) (1.15.0)\n",
            "Requirement already satisfied: PySocks!=1.5.7,>=1.5.6 in /usr/local/lib/python3.7/dist-packages (from requests>=2.1.0->twython) (1.7.1)\n",
            "Requirement already satisfied: setuptools in /usr/local/lib/python3.7/dist-packages (from tika) (57.4.0)\n",
            "Building wheels for collected packages: tika\n",
            "  Building wheel for tika (setup.py) ... \u001b[?25l\u001b[?25hdone\n",
            "  Created wheel for tika: filename=tika-1.24-py3-none-any.whl size=32891 sha256=387ade4f2d5c2c483a6c02ab05e4185738a54dcb2c39a7ed09b927cb26a8ec5f\n",
            "  Stored in directory: /root/.cache/pip/wheels/ec/2b/38/58ff05467a742e32f67f5d0de048fa046e764e2fbb25ac93f3\n",
            "Successfully built tika\n",
            "Installing collected packages: unidecode, twython, tika\n",
            "Successfully installed tika-1.24 twython-3.9.1 unidecode-1.3.2\n"
          ]
        }
      ]
    },
    {
      "cell_type": "code",
      "metadata": {
        "id": "76jMAkqwJR1K"
      },
      "source": [
        "import warnings; warnings.simplefilter('ignore')\n",
        "import tweepy, json, nltk, urllib.request, requests\n",
        "from urllib.request import Request, urlopen\n",
        "from twython import TwythonStreamer\n",
        "from bs4 import BeautifulSoup as bs"
      ],
      "execution_count": 2,
      "outputs": []
    },
    {
      "cell_type": "code",
      "metadata": {
        "id": "JqwRtXXiJUzb"
      },
      "source": [
        "Ck = 'tXIjpNtsebTPQXPeI0srjbmtJ' # consumer_key\n",
        "Cs = 'WEJtNxUHC4nvOG9Je3iZs3PRBqMAqGHfsGYrkyQngCC2w0VvU5' # consumer_secret\n",
        "At = '1346046289922805760-1LRd2BXqBQ8ncIQB4991tyiQUpioMU' # access_token\n",
        "As = 'nCF5jP6cxF4WAgvC2cgOKsruXBUVd7hFZY5WA2gsCSJyO' # access_secret"
      ],
      "execution_count": 3,
      "outputs": []
    },
    {
      "cell_type": "code",
      "metadata": {
        "id": "pJG2_7U-JXRl"
      },
      "source": [
        "def connect(Ck, Cs, At, As):\n",
        "    auth = tweepy.auth.OAuthHandler(Ck, Cs)\n",
        "    auth.set_access_token(At, As)\n",
        "    api = tweepy.API(auth)\n",
        "    usr_ = api.verify_credentials()\n",
        "    print('Welcome \"{}\" you are now connected to twitter server'.format(usr_.name))\n",
        "    return api"
      ],
      "execution_count": 4,
      "outputs": []
    },
    {
      "cell_type": "code",
      "metadata": {
        "colab": {
          "base_uri": "https://localhost:8080/"
        },
        "id": "TVjoRIUZJa5p",
        "outputId": "60a44cba-ef4e-4139-f12a-ad168abb4b1f"
      },
      "source": [
        "api = connect(Ck, Cs, At, As)"
      ],
      "execution_count": 5,
      "outputs": [
        {
          "output_type": "stream",
          "name": "stdout",
          "text": [
            "Welcome \"Tikaa\" you are now connected to twitter server\n"
          ]
        }
      ]
    },
    {
      "cell_type": "code",
      "metadata": {
        "colab": {
          "base_uri": "https://localhost:8080/"
        },
        "id": "jgpo0abrJblg",
        "outputId": "24a75834-c429-4c16-8875-3b6bee8a43f0"
      },
      "source": [
        "# Max 100 tweet per \"API call\"\n",
        "import tweepy\n",
        "\n",
        "qry = 'pemerintah AND covid'\n",
        "N = 100 # jumlah N tweet \"terkini\" yang ingin diambil\n",
        "T = []\n",
        "for post in tweepy.Cursor(api.search, q=qry, lang='id', tweet_mode='extended').items(N):\n",
        "    T.append(post)\n",
        "    \n",
        "T[0]"
      ],
      "execution_count": null,
      "outputs": [
        {
          "output_type": "execute_result",
          "data": {
            "text/plain": [
              "Status(_api=<tweepy.api.API object at 0x7f5e6fdc48d0>, _json={'created_at': 'Thu Oct 28 08:35:51 +0000 2021', 'id': 1453641649679048711, 'id_str': '1453641649679048711', 'full_text': 'RT @KenziePramudya: Mereka yang melakukan demonstrasi di masa pandemi covid-19 tentunya tidak pernah menyadari betapa pemerintah dan masyar…', 'truncated': False, 'display_text_range': [0, 140], 'entities': {'hashtags': [], 'symbols': [], 'user_mentions': [{'screen_name': 'KenziePramudya', 'name': 'Kenzie Pramudya', 'id': 458368201, 'id_str': '458368201', 'indices': [3, 18]}], 'urls': []}, 'metadata': {'iso_language_code': 'in', 'result_type': 'recent'}, 'source': '<a href=\"http://twitter.com/download/android\" rel=\"nofollow\">Twitter for Android</a>', 'in_reply_to_status_id': None, 'in_reply_to_status_id_str': None, 'in_reply_to_user_id': None, 'in_reply_to_user_id_str': None, 'in_reply_to_screen_name': None, 'user': {'id': 1636872547, 'id_str': '1636872547', 'name': 'Pramudita Khairani', 'screen_name': 'PramuditaKhaira', 'location': 'Pulo Gadung, Indonesia', 'description': '', 'url': None, 'entities': {'description': {'urls': []}}, 'protected': False, 'followers_count': 243, 'friends_count': 382, 'listed_count': 1, 'created_at': 'Thu Aug 01 01:41:11 +0000 2013', 'favourites_count': 156, 'utc_offset': None, 'time_zone': None, 'geo_enabled': True, 'verified': False, 'statuses_count': 2176, 'lang': None, 'contributors_enabled': False, 'is_translator': False, 'is_translation_enabled': False, 'profile_background_color': 'C0DEED', 'profile_background_image_url': 'http://abs.twimg.com/images/themes/theme1/bg.png', 'profile_background_image_url_https': 'https://abs.twimg.com/images/themes/theme1/bg.png', 'profile_background_tile': True, 'profile_image_url': 'http://pbs.twimg.com/profile_images/1378144876269723648/KthdFelM_normal.jpg', 'profile_image_url_https': 'https://pbs.twimg.com/profile_images/1378144876269723648/KthdFelM_normal.jpg', 'profile_banner_url': 'https://pbs.twimg.com/profile_banners/1636872547/1616892516', 'profile_link_color': '0084B4', 'profile_sidebar_border_color': 'FFFFFF', 'profile_sidebar_fill_color': 'DDEEF6', 'profile_text_color': '333333', 'profile_use_background_image': True, 'has_extended_profile': True, 'default_profile': False, 'default_profile_image': False, 'following': False, 'follow_request_sent': False, 'notifications': False, 'translator_type': 'none', 'withheld_in_countries': []}, 'geo': None, 'coordinates': None, 'place': None, 'contributors': None, 'retweeted_status': {'created_at': 'Thu Oct 28 07:21:42 +0000 2021', 'id': 1453622990285930496, 'id_str': '1453622990285930496', 'full_text': 'Mereka yang melakukan demonstrasi di masa pandemi covid-19 tentunya tidak pernah menyadari betapa pemerintah dan masyarakat sedang melakukan upaya-upaya ya agar kesehatan dan perekonomian tetap bisa berjalan dengan baik.\\n#UtamakanProkesBukanProtes https://t.co/rP3BaB3U2l', 'truncated': False, 'display_text_range': [0, 247], 'entities': {'hashtags': [{'text': 'UtamakanProkesBukanProtes', 'indices': [221, 247]}], 'symbols': [], 'user_mentions': [], 'urls': [], 'media': [{'id': 1453622980399878149, 'id_str': '1453622980399878149', 'indices': [248, 271], 'media_url': 'http://pbs.twimg.com/media/FCxOZigUUAUo9T2.jpg', 'media_url_https': 'https://pbs.twimg.com/media/FCxOZigUUAUo9T2.jpg', 'url': 'https://t.co/rP3BaB3U2l', 'display_url': 'pic.twitter.com/rP3BaB3U2l', 'expanded_url': 'https://twitter.com/KenziePramudya/status/1453622990285930496/photo/1', 'type': 'photo', 'sizes': {'thumb': {'w': 150, 'h': 150, 'resize': 'crop'}, 'medium': {'w': 1081, 'h': 1080, 'resize': 'fit'}, 'small': {'w': 680, 'h': 679, 'resize': 'fit'}, 'large': {'w': 1081, 'h': 1080, 'resize': 'fit'}}}]}, 'extended_entities': {'media': [{'id': 1453622980399878149, 'id_str': '1453622980399878149', 'indices': [248, 271], 'media_url': 'http://pbs.twimg.com/media/FCxOZigUUAUo9T2.jpg', 'media_url_https': 'https://pbs.twimg.com/media/FCxOZigUUAUo9T2.jpg', 'url': 'https://t.co/rP3BaB3U2l', 'display_url': 'pic.twitter.com/rP3BaB3U2l', 'expanded_url': 'https://twitter.com/KenziePramudya/status/1453622990285930496/photo/1', 'type': 'photo', 'sizes': {'thumb': {'w': 150, 'h': 150, 'resize': 'crop'}, 'medium': {'w': 1081, 'h': 1080, 'resize': 'fit'}, 'small': {'w': 680, 'h': 679, 'resize': 'fit'}, 'large': {'w': 1081, 'h': 1080, 'resize': 'fit'}}}]}, 'metadata': {'iso_language_code': 'in', 'result_type': 'recent'}, 'source': '<a href=\"http://twitter.com/download/android\" rel=\"nofollow\">Twitter for Android</a>', 'in_reply_to_status_id': None, 'in_reply_to_status_id_str': None, 'in_reply_to_user_id': None, 'in_reply_to_user_id_str': None, 'in_reply_to_screen_name': None, 'user': {'id': 458368201, 'id_str': '458368201', 'name': 'Kenzie Pramudya', 'screen_name': 'KenziePramudya', 'location': 'DKI Jakarta, Indonesia', 'description': 'Tetap bersyukur dan berdoa', 'url': None, 'entities': {'description': {'urls': []}}, 'protected': False, 'followers_count': 505, 'friends_count': 401, 'listed_count': 1, 'created_at': 'Sun Jan 08 13:47:27 +0000 2012', 'favourites_count': 168, 'utc_offset': None, 'time_zone': None, 'geo_enabled': True, 'verified': False, 'statuses_count': 9032, 'lang': None, 'contributors_enabled': False, 'is_translator': False, 'is_translation_enabled': False, 'profile_background_color': 'DD2E44', 'profile_background_image_url': 'http://abs.twimg.com/images/themes/theme5/bg.gif', 'profile_background_image_url_https': 'https://abs.twimg.com/images/themes/theme5/bg.gif', 'profile_background_tile': True, 'profile_image_url': 'http://pbs.twimg.com/profile_images/1427278399349960708/vax56_h8_normal.jpg', 'profile_image_url_https': 'https://pbs.twimg.com/profile_images/1427278399349960708/vax56_h8_normal.jpg', 'profile_banner_url': 'https://pbs.twimg.com/profile_banners/458368201/1629124741', 'profile_link_color': '4A913C', 'profile_sidebar_border_color': '000000', 'profile_sidebar_fill_color': '99CC33', 'profile_text_color': '3E4415', 'profile_use_background_image': True, 'has_extended_profile': True, 'default_profile': False, 'default_profile_image': False, 'following': False, 'follow_request_sent': False, 'notifications': False, 'translator_type': 'none', 'withheld_in_countries': []}, 'geo': None, 'coordinates': None, 'place': None, 'contributors': None, 'is_quote_status': False, 'retweet_count': 3, 'favorite_count': 3, 'favorited': False, 'retweeted': False, 'possibly_sensitive': False, 'lang': 'in'}, 'is_quote_status': False, 'retweet_count': 3, 'favorite_count': 0, 'favorited': False, 'retweeted': False, 'lang': 'in'}, created_at=datetime.datetime(2021, 10, 28, 8, 35, 51), id=1453641649679048711, id_str='1453641649679048711', full_text='RT @KenziePramudya: Mereka yang melakukan demonstrasi di masa pandemi covid-19 tentunya tidak pernah menyadari betapa pemerintah dan masyar…', truncated=False, display_text_range=[0, 140], entities={'hashtags': [], 'symbols': [], 'user_mentions': [{'screen_name': 'KenziePramudya', 'name': 'Kenzie Pramudya', 'id': 458368201, 'id_str': '458368201', 'indices': [3, 18]}], 'urls': []}, metadata={'iso_language_code': 'in', 'result_type': 'recent'}, source='Twitter for Android', source_url='http://twitter.com/download/android', in_reply_to_status_id=None, in_reply_to_status_id_str=None, in_reply_to_user_id=None, in_reply_to_user_id_str=None, in_reply_to_screen_name=None, author=User(_api=<tweepy.api.API object at 0x7f5e6fdc48d0>, _json={'id': 1636872547, 'id_str': '1636872547', 'name': 'Pramudita Khairani', 'screen_name': 'PramuditaKhaira', 'location': 'Pulo Gadung, Indonesia', 'description': '', 'url': None, 'entities': {'description': {'urls': []}}, 'protected': False, 'followers_count': 243, 'friends_count': 382, 'listed_count': 1, 'created_at': 'Thu Aug 01 01:41:11 +0000 2013', 'favourites_count': 156, 'utc_offset': None, 'time_zone': None, 'geo_enabled': True, 'verified': False, 'statuses_count': 2176, 'lang': None, 'contributors_enabled': False, 'is_translator': False, 'is_translation_enabled': False, 'profile_background_color': 'C0DEED', 'profile_background_image_url': 'http://abs.twimg.com/images/themes/theme1/bg.png', 'profile_background_image_url_https': 'https://abs.twimg.com/images/themes/theme1/bg.png', 'profile_background_tile': True, 'profile_image_url': 'http://pbs.twimg.com/profile_images/1378144876269723648/KthdFelM_normal.jpg', 'profile_image_url_https': 'https://pbs.twimg.com/profile_images/1378144876269723648/KthdFelM_normal.jpg', 'profile_banner_url': 'https://pbs.twimg.com/profile_banners/1636872547/1616892516', 'profile_link_color': '0084B4', 'profile_sidebar_border_color': 'FFFFFF', 'profile_sidebar_fill_color': 'DDEEF6', 'profile_text_color': '333333', 'profile_use_background_image': True, 'has_extended_profile': True, 'default_profile': False, 'default_profile_image': False, 'following': False, 'follow_request_sent': False, 'notifications': False, 'translator_type': 'none', 'withheld_in_countries': []}, id=1636872547, id_str='1636872547', name='Pramudita Khairani', screen_name='PramuditaKhaira', location='Pulo Gadung, Indonesia', description='', url=None, entities={'description': {'urls': []}}, protected=False, followers_count=243, friends_count=382, listed_count=1, created_at=datetime.datetime(2013, 8, 1, 1, 41, 11), favourites_count=156, utc_offset=None, time_zone=None, geo_enabled=True, verified=False, statuses_count=2176, lang=None, contributors_enabled=False, is_translator=False, is_translation_enabled=False, profile_background_color='C0DEED', profile_background_image_url='http://abs.twimg.com/images/themes/theme1/bg.png', profile_background_image_url_https='https://abs.twimg.com/images/themes/theme1/bg.png', profile_background_tile=True, profile_image_url='http://pbs.twimg.com/profile_images/1378144876269723648/KthdFelM_normal.jpg', profile_image_url_https='https://pbs.twimg.com/profile_images/1378144876269723648/KthdFelM_normal.jpg', profile_banner_url='https://pbs.twimg.com/profile_banners/1636872547/1616892516', profile_link_color='0084B4', profile_sidebar_border_color='FFFFFF', profile_sidebar_fill_color='DDEEF6', profile_text_color='333333', profile_use_background_image=True, has_extended_profile=True, default_profile=False, default_profile_image=False, following=False, follow_request_sent=False, notifications=False, translator_type='none', withheld_in_countries=[]), user=User(_api=<tweepy.api.API object at 0x7f5e6fdc48d0>, _json={'id': 1636872547, 'id_str': '1636872547', 'name': 'Pramudita Khairani', 'screen_name': 'PramuditaKhaira', 'location': 'Pulo Gadung, Indonesia', 'description': '', 'url': None, 'entities': {'description': {'urls': []}}, 'protected': False, 'followers_count': 243, 'friends_count': 382, 'listed_count': 1, 'created_at': 'Thu Aug 01 01:41:11 +0000 2013', 'favourites_count': 156, 'utc_offset': None, 'time_zone': None, 'geo_enabled': True, 'verified': False, 'statuses_count': 2176, 'lang': None, 'contributors_enabled': False, 'is_translator': False, 'is_translation_enabled': False, 'profile_background_color': 'C0DEED', 'profile_background_image_url': 'http://abs.twimg.com/images/themes/theme1/bg.png', 'profile_background_image_url_https': 'https://abs.twimg.com/images/themes/theme1/bg.png', 'profile_background_tile': True, 'profile_image_url': 'http://pbs.twimg.com/profile_images/1378144876269723648/KthdFelM_normal.jpg', 'profile_image_url_https': 'https://pbs.twimg.com/profile_images/1378144876269723648/KthdFelM_normal.jpg', 'profile_banner_url': 'https://pbs.twimg.com/profile_banners/1636872547/1616892516', 'profile_link_color': '0084B4', 'profile_sidebar_border_color': 'FFFFFF', 'profile_sidebar_fill_color': 'DDEEF6', 'profile_text_color': '333333', 'profile_use_background_image': True, 'has_extended_profile': True, 'default_profile': False, 'default_profile_image': False, 'following': False, 'follow_request_sent': False, 'notifications': False, 'translator_type': 'none', 'withheld_in_countries': []}, id=1636872547, id_str='1636872547', name='Pramudita Khairani', screen_name='PramuditaKhaira', location='Pulo Gadung, Indonesia', description='', url=None, entities={'description': {'urls': []}}, protected=False, followers_count=243, friends_count=382, listed_count=1, created_at=datetime.datetime(2013, 8, 1, 1, 41, 11), favourites_count=156, utc_offset=None, time_zone=None, geo_enabled=True, verified=False, statuses_count=2176, lang=None, contributors_enabled=False, is_translator=False, is_translation_enabled=False, profile_background_color='C0DEED', profile_background_image_url='http://abs.twimg.com/images/themes/theme1/bg.png', profile_background_image_url_https='https://abs.twimg.com/images/themes/theme1/bg.png', profile_background_tile=True, profile_image_url='http://pbs.twimg.com/profile_images/1378144876269723648/KthdFelM_normal.jpg', profile_image_url_https='https://pbs.twimg.com/profile_images/1378144876269723648/KthdFelM_normal.jpg', profile_banner_url='https://pbs.twimg.com/profile_banners/1636872547/1616892516', profile_link_color='0084B4', profile_sidebar_border_color='FFFFFF', profile_sidebar_fill_color='DDEEF6', profile_text_color='333333', profile_use_background_image=True, has_extended_profile=True, default_profile=False, default_profile_image=False, following=False, follow_request_sent=False, notifications=False, translator_type='none', withheld_in_countries=[]), geo=None, coordinates=None, place=None, contributors=None, retweeted_status=Status(_api=<tweepy.api.API object at 0x7f5e6fdc48d0>, _json={'created_at': 'Thu Oct 28 07:21:42 +0000 2021', 'id': 1453622990285930496, 'id_str': '1453622990285930496', 'full_text': 'Mereka yang melakukan demonstrasi di masa pandemi covid-19 tentunya tidak pernah menyadari betapa pemerintah dan masyarakat sedang melakukan upaya-upaya ya agar kesehatan dan perekonomian tetap bisa berjalan dengan baik.\\n#UtamakanProkesBukanProtes https://t.co/rP3BaB3U2l', 'truncated': False, 'display_text_range': [0, 247], 'entities': {'hashtags': [{'text': 'UtamakanProkesBukanProtes', 'indices': [221, 247]}], 'symbols': [], 'user_mentions': [], 'urls': [], 'media': [{'id': 1453622980399878149, 'id_str': '1453622980399878149', 'indices': [248, 271], 'media_url': 'http://pbs.twimg.com/media/FCxOZigUUAUo9T2.jpg', 'media_url_https': 'https://pbs.twimg.com/media/FCxOZigUUAUo9T2.jpg', 'url': 'https://t.co/rP3BaB3U2l', 'display_url': 'pic.twitter.com/rP3BaB3U2l', 'expanded_url': 'https://twitter.com/KenziePramudya/status/1453622990285930496/photo/1', 'type': 'photo', 'sizes': {'thumb': {'w': 150, 'h': 150, 'resize': 'crop'}, 'medium': {'w': 1081, 'h': 1080, 'resize': 'fit'}, 'small': {'w': 680, 'h': 679, 'resize': 'fit'}, 'large': {'w': 1081, 'h': 1080, 'resize': 'fit'}}}]}, 'extended_entities': {'media': [{'id': 1453622980399878149, 'id_str': '1453622980399878149', 'indices': [248, 271], 'media_url': 'http://pbs.twimg.com/media/FCxOZigUUAUo9T2.jpg', 'media_url_https': 'https://pbs.twimg.com/media/FCxOZigUUAUo9T2.jpg', 'url': 'https://t.co/rP3BaB3U2l', 'display_url': 'pic.twitter.com/rP3BaB3U2l', 'expanded_url': 'https://twitter.com/KenziePramudya/status/1453622990285930496/photo/1', 'type': 'photo', 'sizes': {'thumb': {'w': 150, 'h': 150, 'resize': 'crop'}, 'medium': {'w': 1081, 'h': 1080, 'resize': 'fit'}, 'small': {'w': 680, 'h': 679, 'resize': 'fit'}, 'large': {'w': 1081, 'h': 1080, 'resize': 'fit'}}}]}, 'metadata': {'iso_language_code': 'in', 'result_type': 'recent'}, 'source': '<a href=\"http://twitter.com/download/android\" rel=\"nofollow\">Twitter for Android</a>', 'in_reply_to_status_id': None, 'in_reply_to_status_id_str': None, 'in_reply_to_user_id': None, 'in_reply_to_user_id_str': None, 'in_reply_to_screen_name': None, 'user': {'id': 458368201, 'id_str': '458368201', 'name': 'Kenzie Pramudya', 'screen_name': 'KenziePramudya', 'location': 'DKI Jakarta, Indonesia', 'description': 'Tetap bersyukur dan berdoa', 'url': None, 'entities': {'description': {'urls': []}}, 'protected': False, 'followers_count': 505, 'friends_count': 401, 'listed_count': 1, 'created_at': 'Sun Jan 08 13:47:27 +0000 2012', 'favourites_count': 168, 'utc_offset': None, 'time_zone': None, 'geo_enabled': True, 'verified': False, 'statuses_count': 9032, 'lang': None, 'contributors_enabled': False, 'is_translator': False, 'is_translation_enabled': False, 'profile_background_color': 'DD2E44', 'profile_background_image_url': 'http://abs.twimg.com/images/themes/theme5/bg.gif', 'profile_background_image_url_https': 'https://abs.twimg.com/images/themes/theme5/bg.gif', 'profile_background_tile': True, 'profile_image_url': 'http://pbs.twimg.com/profile_images/1427278399349960708/vax56_h8_normal.jpg', 'profile_image_url_https': 'https://pbs.twimg.com/profile_images/1427278399349960708/vax56_h8_normal.jpg', 'profile_banner_url': 'https://pbs.twimg.com/profile_banners/458368201/1629124741', 'profile_link_color': '4A913C', 'profile_sidebar_border_color': '000000', 'profile_sidebar_fill_color': '99CC33', 'profile_text_color': '3E4415', 'profile_use_background_image': True, 'has_extended_profile': True, 'default_profile': False, 'default_profile_image': False, 'following': False, 'follow_request_sent': False, 'notifications': False, 'translator_type': 'none', 'withheld_in_countries': []}, 'geo': None, 'coordinates': None, 'place': None, 'contributors': None, 'is_quote_status': False, 'retweet_count': 3, 'favorite_count': 3, 'favorited': False, 'retweeted': False, 'possibly_sensitive': False, 'lang': 'in'}, created_at=datetime.datetime(2021, 10, 28, 7, 21, 42), id=1453622990285930496, id_str='1453622990285930496', full_text='Mereka yang melakukan demonstrasi di masa pandemi covid-19 tentunya tidak pernah menyadari betapa pemerintah dan masyarakat sedang melakukan upaya-upaya ya agar kesehatan dan perekonomian tetap bisa berjalan dengan baik.\\n#UtamakanProkesBukanProtes https://t.co/rP3BaB3U2l', truncated=False, display_text_range=[0, 247], entities={'hashtags': [{'text': 'UtamakanProkesBukanProtes', 'indices': [221, 247]}], 'symbols': [], 'user_mentions': [], 'urls': [], 'media': [{'id': 1453622980399878149, 'id_str': '1453622980399878149', 'indices': [248, 271], 'media_url': 'http://pbs.twimg.com/media/FCxOZigUUAUo9T2.jpg', 'media_url_https': 'https://pbs.twimg.com/media/FCxOZigUUAUo9T2.jpg', 'url': 'https://t.co/rP3BaB3U2l', 'display_url': 'pic.twitter.com/rP3BaB3U2l', 'expanded_url': 'https://twitter.com/KenziePramudya/status/1453622990285930496/photo/1', 'type': 'photo', 'sizes': {'thumb': {'w': 150, 'h': 150, 'resize': 'crop'}, 'medium': {'w': 1081, 'h': 1080, 'resize': 'fit'}, 'small': {'w': 680, 'h': 679, 'resize': 'fit'}, 'large': {'w': 1081, 'h': 1080, 'resize': 'fit'}}}]}, extended_entities={'media': [{'id': 1453622980399878149, 'id_str': '1453622980399878149', 'indices': [248, 271], 'media_url': 'http://pbs.twimg.com/media/FCxOZigUUAUo9T2.jpg', 'media_url_https': 'https://pbs.twimg.com/media/FCxOZigUUAUo9T2.jpg', 'url': 'https://t.co/rP3BaB3U2l', 'display_url': 'pic.twitter.com/rP3BaB3U2l', 'expanded_url': 'https://twitter.com/KenziePramudya/status/1453622990285930496/photo/1', 'type': 'photo', 'sizes': {'thumb': {'w': 150, 'h': 150, 'resize': 'crop'}, 'medium': {'w': 1081, 'h': 1080, 'resize': 'fit'}, 'small': {'w': 680, 'h': 679, 'resize': 'fit'}, 'large': {'w': 1081, 'h': 1080, 'resize': 'fit'}}}]}, metadata={'iso_language_code': 'in', 'result_type': 'recent'}, source='Twitter for Android', source_url='http://twitter.com/download/android', in_reply_to_status_id=None, in_reply_to_status_id_str=None, in_reply_to_user_id=None, in_reply_to_user_id_str=None, in_reply_to_screen_name=None, author=User(_api=<tweepy.api.API object at 0x7f5e6fdc48d0>, _json={'id': 458368201, 'id_str': '458368201', 'name': 'Kenzie Pramudya', 'screen_name': 'KenziePramudya', 'location': 'DKI Jakarta, Indonesia', 'description': 'Tetap bersyukur dan berdoa', 'url': None, 'entities': {'description': {'urls': []}}, 'protected': False, 'followers_count': 505, 'friends_count': 401, 'listed_count': 1, 'created_at': 'Sun Jan 08 13:47:27 +0000 2012', 'favourites_count': 168, 'utc_offset': None, 'time_zone': None, 'geo_enabled': True, 'verified': False, 'statuses_count': 9032, 'lang': None, 'contributors_enabled': False, 'is_translator': False, 'is_translation_enabled': False, 'profile_background_color': 'DD2E44', 'profile_background_image_url': 'http://abs.twimg.com/images/themes/theme5/bg.gif', 'profile_background_image_url_https': 'https://abs.twimg.com/images/themes/theme5/bg.gif', 'profile_background_tile': True, 'profile_image_url': 'http://pbs.twimg.com/profile_images/1427278399349960708/vax56_h8_normal.jpg', 'profile_image_url_https': 'https://pbs.twimg.com/profile_images/1427278399349960708/vax56_h8_normal.jpg', 'profile_banner_url': 'https://pbs.twimg.com/profile_banners/458368201/1629124741', 'profile_link_color': '4A913C', 'profile_sidebar_border_color': '000000', 'profile_sidebar_fill_color': '99CC33', 'profile_text_color': '3E4415', 'profile_use_background_image': True, 'has_extended_profile': True, 'default_profile': False, 'default_profile_image': False, 'following': False, 'follow_request_sent': False, 'notifications': False, 'translator_type': 'none', 'withheld_in_countries': []}, id=458368201, id_str='458368201', name='Kenzie Pramudya', screen_name='KenziePramudya', location='DKI Jakarta, Indonesia', description='Tetap bersyukur dan berdoa', url=None, entities={'description': {'urls': []}}, protected=False, followers_count=505, friends_count=401, listed_count=1, created_at=datetime.datetime(2012, 1, 8, 13, 47, 27), favourites_count=168, utc_offset=None, time_zone=None, geo_enabled=True, verified=False, statuses_count=9032, lang=None, contributors_enabled=False, is_translator=False, is_translation_enabled=False, profile_background_color='DD2E44', profile_background_image_url='http://abs.twimg.com/images/themes/theme5/bg.gif', profile_background_image_url_https='https://abs.twimg.com/images/themes/theme5/bg.gif', profile_background_tile=True, profile_image_url='http://pbs.twimg.com/profile_images/1427278399349960708/vax56_h8_normal.jpg', profile_image_url_https='https://pbs.twimg.com/profile_images/1427278399349960708/vax56_h8_normal.jpg', profile_banner_url='https://pbs.twimg.com/profile_banners/458368201/1629124741', profile_link_color='4A913C', profile_sidebar_border_color='000000', profile_sidebar_fill_color='99CC33', profile_text_color='3E4415', profile_use_background_image=True, has_extended_profile=True, default_profile=False, default_profile_image=False, following=False, follow_request_sent=False, notifications=False, translator_type='none', withheld_in_countries=[]), user=User(_api=<tweepy.api.API object at 0x7f5e6fdc48d0>, _json={'id': 458368201, 'id_str': '458368201', 'name': 'Kenzie Pramudya', 'screen_name': 'KenziePramudya', 'location': 'DKI Jakarta, Indonesia', 'description': 'Tetap bersyukur dan berdoa', 'url': None, 'entities': {'description': {'urls': []}}, 'protected': False, 'followers_count': 505, 'friends_count': 401, 'listed_count': 1, 'created_at': 'Sun Jan 08 13:47:27 +0000 2012', 'favourites_count': 168, 'utc_offset': None, 'time_zone': None, 'geo_enabled': True, 'verified': False, 'statuses_count': 9032, 'lang': None, 'contributors_enabled': False, 'is_translator': False, 'is_translation_enabled': False, 'profile_background_color': 'DD2E44', 'profile_background_image_url': 'http://abs.twimg.com/images/themes/theme5/bg.gif', 'profile_background_image_url_https': 'https://abs.twimg.com/images/themes/theme5/bg.gif', 'profile_background_tile': True, 'profile_image_url': 'http://pbs.twimg.com/profile_images/1427278399349960708/vax56_h8_normal.jpg', 'profile_image_url_https': 'https://pbs.twimg.com/profile_images/1427278399349960708/vax56_h8_normal.jpg', 'profile_banner_url': 'https://pbs.twimg.com/profile_banners/458368201/1629124741', 'profile_link_color': '4A913C', 'profile_sidebar_border_color': '000000', 'profile_sidebar_fill_color': '99CC33', 'profile_text_color': '3E4415', 'profile_use_background_image': True, 'has_extended_profile': True, 'default_profile': False, 'default_profile_image': False, 'following': False, 'follow_request_sent': False, 'notifications': False, 'translator_type': 'none', 'withheld_in_countries': []}, id=458368201, id_str='458368201', name='Kenzie Pramudya', screen_name='KenziePramudya', location='DKI Jakarta, Indonesia', description='Tetap bersyukur dan berdoa', url=None, entities={'description': {'urls': []}}, protected=False, followers_count=505, friends_count=401, listed_count=1, created_at=datetime.datetime(2012, 1, 8, 13, 47, 27), favourites_count=168, utc_offset=None, time_zone=None, geo_enabled=True, verified=False, statuses_count=9032, lang=None, contributors_enabled=False, is_translator=False, is_translation_enabled=False, profile_background_color='DD2E44', profile_background_image_url='http://abs.twimg.com/images/themes/theme5/bg.gif', profile_background_image_url_https='https://abs.twimg.com/images/themes/theme5/bg.gif', profile_background_tile=True, profile_image_url='http://pbs.twimg.com/profile_images/1427278399349960708/vax56_h8_normal.jpg', profile_image_url_https='https://pbs.twimg.com/profile_images/1427278399349960708/vax56_h8_normal.jpg', profile_banner_url='https://pbs.twimg.com/profile_banners/458368201/1629124741', profile_link_color='4A913C', profile_sidebar_border_color='000000', profile_sidebar_fill_color='99CC33', profile_text_color='3E4415', profile_use_background_image=True, has_extended_profile=True, default_profile=False, default_profile_image=False, following=False, follow_request_sent=False, notifications=False, translator_type='none', withheld_in_countries=[]), geo=None, coordinates=None, place=None, contributors=None, is_quote_status=False, retweet_count=3, favorite_count=3, favorited=False, retweeted=False, possibly_sensitive=False, lang='in'), is_quote_status=False, retweet_count=3, favorite_count=0, favorited=False, retweeted=False, lang='in')"
            ]
          },
          "metadata": {},
          "execution_count": 703
        }
      ]
    },
    {
      "cell_type": "code",
      "metadata": {
        "colab": {
          "base_uri": "https://localhost:8080/"
        },
        "id": "HRfdBF_XJ93r",
        "outputId": "942807b9-777a-44db-a269-b035a6b047b7"
      },
      "source": [
        "tweets = [t._json for t in T]\n",
        "print(' Berhasil mendapatkan {} tweets'.format(len(tweets)))"
      ],
      "execution_count": null,
      "outputs": [
        {
          "output_type": "stream",
          "name": "stdout",
          "text": [
            " Berhasil mendapatkan 100 tweets\n"
          ]
        }
      ]
    },
    {
      "cell_type": "code",
      "metadata": {
        "colab": {
          "base_uri": "https://localhost:8080/"
        },
        "id": "c8yDdN23J-ie",
        "outputId": "48457046-76f6-43cc-86b7-79e7424b01a0"
      },
      "source": [
        "last_id = T[-1]._json['id'] - 1\n",
        "last_id"
      ],
      "execution_count": null,
      "outputs": [
        {
          "output_type": "execute_result",
          "data": {
            "text/plain": [
              "1452470671783563263"
            ]
          },
          "metadata": {},
          "execution_count": 794
        }
      ]
    },
    {
      "cell_type": "code",
      "metadata": {
        "colab": {
          "base_uri": "https://localhost:8080/"
        },
        "id": "QBhu-JfjOMGW",
        "outputId": "1a951318-054f-4c8a-a4e2-cbbb27225a03"
      },
      "source": [
        "T = api.search(q=qry, lang='id', count=N, tweet_mode = 'extended', max_id=last_id)\n",
        "tweets.extend([t._json for t in T])\n",
        "\n",
        "print('Jumlah data sekarang = ', len(tweets))"
      ],
      "execution_count": null,
      "outputs": [
        {
          "output_type": "stream",
          "name": "stdout",
          "text": [
            "Jumlah data sekarang =  4598\n"
          ]
        }
      ]
    },
    {
      "cell_type": "code",
      "metadata": {
        "colab": {
          "base_uri": "https://localhost:8080/"
        },
        "id": "z2PS_mJjkbew",
        "outputId": "5bd6b98c-836c-4677-8566-c228ecdea1bb"
      },
      "source": [
        "# Datanya berbentuk JSON\n",
        "tweets[0]['created_at'], tweets[0]['full_text']"
      ],
      "execution_count": null,
      "outputs": [
        {
          "output_type": "execute_result",
          "data": {
            "text/plain": [
              "('Thu Oct 28 07:26:12 +0000 2021',\n",
              " 'RT @detikcom: Harga minyak goreng naik di sejumlah daerah. Pengamat menilai pemerintah perlu mengatasi kenaikan harga minyak goreng karena…')"
            ]
          },
          "metadata": {},
          "execution_count": 661
        }
      ]
    },
    {
      "cell_type": "code",
      "metadata": {
        "colab": {
          "base_uri": "https://localhost:8080/"
        },
        "id": "Mbv4-gSGkfwj",
        "outputId": "4ea2c4ea-e5eb-4147-8496-dfa4dfa13f39"
      },
      "source": [
        "tweets[4062]"
      ],
      "execution_count": null,
      "outputs": [
        {
          "output_type": "execute_result",
          "data": {
            "text/plain": [
              "{'contributors': None,\n",
              " 'coordinates': None,\n",
              " 'created_at': 'Mon Oct 25 03:58:29 +0000 2021',\n",
              " 'display_text_range': [14, 176],\n",
              " 'entities': {'hashtags': [{'indices': [126, 151],\n",
              "    'text': 'SosialisasiEdukasiProkes'}],\n",
              "  'symbols': [],\n",
              "  'urls': [],\n",
              "  'user_mentions': [{'id': 930617205301002241,\n",
              "    'id_str': '930617205301002241',\n",
              "    'indices': [0, 13],\n",
              "    'name': 'Kresna_Candi',\n",
              "    'screen_name': 'Kresna_Candi'}]},\n",
              " 'favorite_count': 0,\n",
              " 'favorited': False,\n",
              " 'full_text': '@Kresna_Candi Penanganan serta pengendalian covid-19 yang sudah mulai berkurang karena peran aktif masyarakat dan pemerintah\\n\\n#SosialisasiEdukasiProkes\\nCipta Kamtibmas Kondusif',\n",
              " 'geo': None,\n",
              " 'id': 1452484683611054086,\n",
              " 'id_str': '1452484683611054086',\n",
              " 'in_reply_to_screen_name': 'Kresna_Candi',\n",
              " 'in_reply_to_status_id': 1452479296421851138,\n",
              " 'in_reply_to_status_id_str': '1452479296421851138',\n",
              " 'in_reply_to_user_id': 930617205301002241,\n",
              " 'in_reply_to_user_id_str': '930617205301002241',\n",
              " 'is_quote_status': False,\n",
              " 'lang': 'in',\n",
              " 'metadata': {'iso_language_code': 'in', 'result_type': 'recent'},\n",
              " 'place': None,\n",
              " 'retweet_count': 0,\n",
              " 'retweeted': False,\n",
              " 'source': '<a href=\"http://twitter.com/download/iphone\" rel=\"nofollow\">Twitter for iPhone</a>',\n",
              " 'truncated': False,\n",
              " 'user': {'contributors_enabled': False,\n",
              "  'created_at': 'Sat May 26 08:37:10 +0000 2012',\n",
              "  'default_profile': False,\n",
              "  'default_profile_image': False,\n",
              "  'description': '',\n",
              "  'entities': {'description': {'urls': []}},\n",
              "  'favourites_count': 342,\n",
              "  'follow_request_sent': False,\n",
              "  'followers_count': 65,\n",
              "  'following': False,\n",
              "  'friends_count': 192,\n",
              "  'geo_enabled': False,\n",
              "  'has_extended_profile': False,\n",
              "  'id': 590738473,\n",
              "  'id_str': '590738473',\n",
              "  'is_translation_enabled': False,\n",
              "  'is_translator': False,\n",
              "  'lang': None,\n",
              "  'listed_count': 0,\n",
              "  'location': '',\n",
              "  'name': 'Cuilan Krupuk',\n",
              "  'notifications': False,\n",
              "  'profile_background_color': 'C0DEED',\n",
              "  'profile_background_image_url': 'http://abs.twimg.com/images/themes/theme1/bg.png',\n",
              "  'profile_background_image_url_https': 'https://abs.twimg.com/images/themes/theme1/bg.png',\n",
              "  'profile_background_tile': False,\n",
              "  'profile_image_url': 'http://pbs.twimg.com/profile_images/1231135029855547392/HTAs5a3Q_normal.jpg',\n",
              "  'profile_image_url_https': 'https://pbs.twimg.com/profile_images/1231135029855547392/HTAs5a3Q_normal.jpg',\n",
              "  'profile_link_color': '0084B4',\n",
              "  'profile_sidebar_border_color': 'FFFFFF',\n",
              "  'profile_sidebar_fill_color': 'DDEEF6',\n",
              "  'profile_text_color': '333333',\n",
              "  'profile_use_background_image': True,\n",
              "  'protected': False,\n",
              "  'screen_name': 'KrupukCuilan',\n",
              "  'statuses_count': 747,\n",
              "  'time_zone': None,\n",
              "  'translator_type': 'none',\n",
              "  'url': None,\n",
              "  'utc_offset': None,\n",
              "  'verified': False,\n",
              "  'withheld_in_countries': []}}"
            ]
          },
          "metadata": {},
          "execution_count": 796
        }
      ]
    },
    {
      "cell_type": "code",
      "metadata": {
        "id": "XSTvh2P7r1wW"
      },
      "source": [
        "def saveTweets(tweets, file='Tweets.json'): #in Json Format\n",
        "    with open(file, 'w') as f:\n",
        "        for t in tweets:\n",
        "            try:\n",
        "                f.write(json.dumps(t)+'\\n')\n",
        "            except:\n",
        "                pass"
      ],
      "execution_count": null,
      "outputs": []
    },
    {
      "cell_type": "code",
      "metadata": {
        "colab": {
          "base_uri": "https://localhost:8080/"
        },
        "id": "O6lSEudPsmIi",
        "outputId": "1bff3ebc-c8e0-4a7f-a52d-a88fa3da2bd8"
      },
      "source": [
        "# Menyimpan hasil crawling twitter\n",
        "fileName = 'pemerintah AND covid.json'\n",
        "saveTweets(tweets, file=fileName)\n",
        "print('Saved to '+fileName)"
      ],
      "execution_count": null,
      "outputs": [
        {
          "output_type": "stream",
          "name": "stdout",
          "text": [
            "Saved to pemerintah AND covid.json\n"
          ]
        }
      ]
    }
  ]
}